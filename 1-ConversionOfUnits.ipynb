# CONVERSION OF UNITS
# Python 3
# Using Jupyter Notebook
# If using Visual Studio then change .ipynb to .py
# This program aims to convert units from miles to km and from km to ft.
# 1 inch = 2.54 cm,  1 km = 1000m, 1 m = 100 cm, 12 inches = 1 ft, 1 mile = 5280 ft

# ------- Start ------- 
# Known Standard Units of Conversion
# Refer to a conversion table if you don't know where to find it. 
# But I placed it at the top for reference
inToCm = 2.54
kmToM = 1000
mToCm = 100
inToFt = 1/12
miToFt = 5280

# Input your number to be converted using this command
num = float(input("Enter your number (in miles): "))

# Conversion formula
# Don't get overwhelmed, if you have the conversion table you'll be fine.
# Otherwise get your pen and paper, and write before coding!
miToFt = num * miToFt 
inToFt = miToFt * (1/inToFt) 
inToCm = inToFt * inToCm 
mToCm = inToCm * (1/mToCm)
kmToM = mToCm * (1/kmToM)

# Print the answer
print()
print(num, " mile(s) is",miToFt," feet")
print(miToFt, " feet(s) is",inToFt," inch(es)")
print(inToFt, " inch(es) is",inToCm," centimeter(s)")
print(inToCm, " centmeter(s) is",mToCm," meter(s)")
print(mToCm, " meter(s) is",kmToM," kilometer(s)")

# ------- End ------- 

# For a shorter version

#CONVERSION OF UNITS
#This program aims to convert units from miles to km and from km to ft.
# 1 inch = 2.54 cm,  1 km = 1000m, 1 m = 100 cm, 12 inches = 1 ft, 1 mile = 5280 ft
inToCm = 2.54
kmToM = 1000
mToCm = 100
inToFt = 1/12
miToFt = 5280

num = float(input("Enter your number (in miles): "))

convertedNum = num * miToFt * (1/inToFt) * inToCm * (1/mToCm) * (1/kmToM)

print(num, " mile(s) is",convertedNum,"kilometers")